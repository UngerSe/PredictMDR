{
 "cells": [
  {
   "cell_type": "code",
   "execution_count": 2,
   "metadata": {},
   "outputs": [
    {
     "data": {
      "text/plain": [
       "'\"\\nFür die Vorhersage wird ein zwei-Phasen-Modell verwendet. Es beinhaltet zwei MachineLearning-Modelle.\\nZunächst wird der Wert der Spalte \\'Survival\\' mit einem Klassifikationsmodell von RandomForest vorhergesagt. Falls dieser Wert False ist, so geht das Modell davon aus,\\ndass die Komponente in der Zukunft einen Wert \"VALID\" in der Spalte \\'status_75\\' haben, also ausfallen wird.\\nWenn dies der Fall ist, dann werden die Daten in das zweite Modell, ein Regressionsmodell von RandomForest eingegeben.\\nDies sagt den Wert der Spalte \\'time_to_fail\\' vorher. Es wird also berechnet, wann(seit heute) die Komponente (vorraussichtlich) ausfallen wird.\\nDie Einheit der Spalte ist in 1/10- Sekunden.\\nWenn in der ersten Phase ein Wert von True vorhergesagt wird, so ist es nicht sinnvoll, weiter vorherzusagen, wann die Komponente ausfallen wird,\\nwenn überhaupt nicht angenommen wird, dass diese ausfällt.\\n'"
      ]
     },
     "execution_count": 2,
     "metadata": {},
     "output_type": "execute_result"
    }
   ],
   "source": [
    "import pandas as pd\n",
    "import os\n",
    "from sklearn.model_selection import train_test_split\n",
    "from sklearn.ensemble import RandomForestRegressor, RandomForestClassifier\n",
    "from sklearn.svm import SVR\n",
    "from sklearn.metrics import mean_squared_error, r2_score, accuracy_score, classification_report\n",
    "from sklearn.model_selection import GridSearchCV\n",
    "from joblib import dump, load\n",
    "\n",
    "# source ./venv/Scripts/activate\n",
    "\n",
    "file_name = 'prep_dataset.csv'\n",
    "target_variable = \"time_to_fail\"\n",
    "\n",
    "# Laden der präparierten Daten\n",
    "df = pd.read_csv(file_name)\n",
    "\n",
    "# Funktion zur Bewertung der Modelle\n",
    "def evaluate_model(y_true, y_pred, model_name):\n",
    "    mse = mean_squared_error(y_true / 1000 / 3600 / 24, y_pred / 1000 / 3600 / 24)\n",
    "    r2 = r2_score(y_true, y_pred)\n",
    "    print(f\"{model_name} - MSE: {mse:.2f}, R²: {r2:.2f}\")\n",
    "\n",
    "# Funktion zum Laden der Modelle\n",
    "def load_model_if_exists(model_file):\n",
    "    if os.path.exists(model_file):\n",
    "        return load(model_file)\n",
    "    else:\n",
    "        return None\n",
    "\n",
    "\n",
    "# Modelle laden\n",
    "grid_search_file = \"best_random_forest_model.joblib\"\n",
    "grid_search = load_model_if_exists(grid_search_file)\n",
    "\"\"\"\"\n",
    "Für die Vorhersage wird ein zwei-Phasen-Modell verwendet. Es beinhaltet zwei MachineLearning-Modelle.\n",
    "Zunächst wird der Wert der Spalte 'Survival' mit einem Klassifikationsmodell von RandomForest vorhergesagt. Falls dieser Wert False ist, so geht das Modell davon aus,\n",
    "dass die Komponente in der Zukunft einen Wert \"VALID\" in der Spalte 'status_75' haben, also ausfallen wird.\n",
    "Wenn dies der Fall ist, dann werden die Daten in das zweite Modell, ein Regressionsmodell von RandomForest eingegeben.\n",
    "Dies sagt den Wert der Spalte 'time_to_fail' vorher. Es wird also berechnet, wann(seit heute) die Komponente (vorraussichtlich) ausfallen wird.\n",
    "Die Einheit der Spalte ist in 1/10- Sekunden.\n",
    "Wenn in der ersten Phase ein Wert von True vorhergesagt wird, so ist es nicht sinnvoll, weiter vorherzusagen, wann die Komponente ausfallen wird,\n",
    "wenn überhaupt nicht angenommen wird, dass diese ausfällt.\n",
    "\"\"\""
   ]
  },
  {
   "cell_type": "code",
   "execution_count": 3,
   "metadata": {},
   "outputs": [
    {
     "name": "stdout",
     "output_type": "stream",
     "text": [
      "['InvSampTime', 'RadV_50per', 'OfsDevTight', 'InvSampTurn', 'AmpDevStrict', 'RadV_25per', 'RawRadius', 'AmpSyncCheck', 'msg_timestamp', 'OfsCos200', 'OfsCos100', 'ClCos300', 'OfsSin200', 'ClSin300', 'time_to_fail', 'mileage', 'ClSin150', 'ClCos150', 'OfsSin100', 'EcuLifeT', 'sick_time']\n"
     ]
    }
   ],
   "source": [
    "# Load Regression Data\n",
    "# Daten für Regression werden in Einflussvariable X1 und Zielvariable y aufgeteilt\n",
    "# Es werden nur Datensätze betrachtet, die in Spalte 'Survival' den Wert \"False\" haben, da\n",
    "# andernfalls der Wert von 'time_to_fail', also die Zeit bis zum Ausfall keinen Sinn ergibt, da\n",
    "# es keinen Ausfall geben wird\n",
    "y = df[target_variable]\n",
    "X = df.drop(columns=[target_variable])\n",
    "# Aufteilen in Trainings- und Testdaten\n",
    "X_train, X_test, y_train, y_test = train_test_split(\n",
    "    X, y, test_size=0.2, random_state=42\n",
    ")\n",
    "# Regressionsmodell wird geladen, sofern vorhanden\n",
    "rf_model_file = \"random_forest_model.joblib\"\n",
    "rf_model = load_model_if_exists(rf_model_file)\n",
    "print(df.columns.tolist())"
   ]
  },
  {
   "cell_type": "code",
   "execution_count": 11,
   "metadata": {},
   "outputs": [
    {
     "ename": "KeyboardInterrupt",
     "evalue": "",
     "output_type": "error",
     "traceback": [
      "\u001b[31m---------------------------------------------------------------------------\u001b[39m",
      "\u001b[31mKeyboardInterrupt\u001b[39m                         Traceback (most recent call last)",
      "\u001b[36mCell\u001b[39m\u001b[36m \u001b[39m\u001b[32mIn[11]\u001b[39m\u001b[32m, line 8\u001b[39m\n\u001b[32m      6\u001b[39m     dump(rf_model, rf_model_file)\n\u001b[32m      7\u001b[39m \u001b[38;5;66;03m# Modell wird mithilfe des MeanSquaredErrors und des R²- Wertes ausgewertet (möglichst geringer MSE und möglichst hoher R²- Wert ist optimal)\u001b[39;00m\n\u001b[32m----> \u001b[39m\u001b[32m8\u001b[39m rf_predictions = \u001b[43mrf_model\u001b[49m\u001b[43m.\u001b[49m\u001b[43mpredict\u001b[49m\u001b[43m(\u001b[49m\u001b[43mX_test\u001b[49m\u001b[43m)\u001b[49m\n\u001b[32m      9\u001b[39m evaluate_model(\n\u001b[32m     10\u001b[39m     y_test, rf_predictions, \u001b[33m\"\u001b[39m\u001b[33mRandom Forest\u001b[39m\u001b[33m\"\u001b[39m\n\u001b[32m     11\u001b[39m )  \u001b[38;5;66;03m# MSE: 38.68, R²: 0.97 -> Durchschnittlich ein Fehler von +-6 Tagen\u001b[39;00m\n",
      "\u001b[36mFile \u001b[39m\u001b[32mc:\\Users\\Q548239\\devbr\\light-edit\\venv\\Lib\\site-packages\\sklearn\\ensemble\\_forest.py:1079\u001b[39m, in \u001b[36mForestRegressor.predict\u001b[39m\u001b[34m(self, X)\u001b[39m\n\u001b[32m   1077\u001b[39m \u001b[38;5;66;03m# Parallel loop\u001b[39;00m\n\u001b[32m   1078\u001b[39m lock = threading.Lock()\n\u001b[32m-> \u001b[39m\u001b[32m1079\u001b[39m \u001b[43mParallel\u001b[49m\u001b[43m(\u001b[49m\u001b[43mn_jobs\u001b[49m\u001b[43m=\u001b[49m\u001b[43mn_jobs\u001b[49m\u001b[43m,\u001b[49m\u001b[43m \u001b[49m\u001b[43mverbose\u001b[49m\u001b[43m=\u001b[49m\u001b[38;5;28;43mself\u001b[39;49m\u001b[43m.\u001b[49m\u001b[43mverbose\u001b[49m\u001b[43m,\u001b[49m\u001b[43m \u001b[49m\u001b[43mrequire\u001b[49m\u001b[43m=\u001b[49m\u001b[33;43m\"\u001b[39;49m\u001b[33;43msharedmem\u001b[39;49m\u001b[33;43m\"\u001b[39;49m\u001b[43m)\u001b[49m\u001b[43m(\u001b[49m\n\u001b[32m   1080\u001b[39m \u001b[43m    \u001b[49m\u001b[43mdelayed\u001b[49m\u001b[43m(\u001b[49m\u001b[43m_accumulate_prediction\u001b[49m\u001b[43m)\u001b[49m\u001b[43m(\u001b[49m\u001b[43me\u001b[49m\u001b[43m.\u001b[49m\u001b[43mpredict\u001b[49m\u001b[43m,\u001b[49m\u001b[43m \u001b[49m\u001b[43mX\u001b[49m\u001b[43m,\u001b[49m\u001b[43m \u001b[49m\u001b[43m[\u001b[49m\u001b[43my_hat\u001b[49m\u001b[43m]\u001b[49m\u001b[43m,\u001b[49m\u001b[43m \u001b[49m\u001b[43mlock\u001b[49m\u001b[43m)\u001b[49m\n\u001b[32m   1081\u001b[39m \u001b[43m    \u001b[49m\u001b[38;5;28;43;01mfor\u001b[39;49;00m\u001b[43m \u001b[49m\u001b[43me\u001b[49m\u001b[43m \u001b[49m\u001b[38;5;129;43;01min\u001b[39;49;00m\u001b[43m \u001b[49m\u001b[38;5;28;43mself\u001b[39;49m\u001b[43m.\u001b[49m\u001b[43mestimators_\u001b[49m\n\u001b[32m   1082\u001b[39m \u001b[43m\u001b[49m\u001b[43m)\u001b[49m\n\u001b[32m   1084\u001b[39m y_hat /= \u001b[38;5;28mlen\u001b[39m(\u001b[38;5;28mself\u001b[39m.estimators_)\n\u001b[32m   1086\u001b[39m \u001b[38;5;28;01mreturn\u001b[39;00m y_hat\n",
      "\u001b[36mFile \u001b[39m\u001b[32mc:\\Users\\Q548239\\devbr\\light-edit\\venv\\Lib\\site-packages\\sklearn\\utils\\parallel.py:77\u001b[39m, in \u001b[36mParallel.__call__\u001b[39m\u001b[34m(self, iterable)\u001b[39m\n\u001b[32m     72\u001b[39m config = get_config()\n\u001b[32m     73\u001b[39m iterable_with_config = (\n\u001b[32m     74\u001b[39m     (_with_config(delayed_func, config), args, kwargs)\n\u001b[32m     75\u001b[39m     \u001b[38;5;28;01mfor\u001b[39;00m delayed_func, args, kwargs \u001b[38;5;129;01min\u001b[39;00m iterable\n\u001b[32m     76\u001b[39m )\n\u001b[32m---> \u001b[39m\u001b[32m77\u001b[39m \u001b[38;5;28;01mreturn\u001b[39;00m \u001b[38;5;28;43msuper\u001b[39;49m\u001b[43m(\u001b[49m\u001b[43m)\u001b[49m\u001b[43m.\u001b[49m\u001b[34;43m__call__\u001b[39;49m\u001b[43m(\u001b[49m\u001b[43miterable_with_config\u001b[49m\u001b[43m)\u001b[49m\n",
      "\u001b[36mFile \u001b[39m\u001b[32mc:\\Users\\Q548239\\devbr\\light-edit\\venv\\Lib\\site-packages\\joblib\\parallel.py:1918\u001b[39m, in \u001b[36mParallel.__call__\u001b[39m\u001b[34m(self, iterable)\u001b[39m\n\u001b[32m   1916\u001b[39m     output = \u001b[38;5;28mself\u001b[39m._get_sequential_output(iterable)\n\u001b[32m   1917\u001b[39m     \u001b[38;5;28mnext\u001b[39m(output)\n\u001b[32m-> \u001b[39m\u001b[32m1918\u001b[39m     \u001b[38;5;28;01mreturn\u001b[39;00m output \u001b[38;5;28;01mif\u001b[39;00m \u001b[38;5;28mself\u001b[39m.return_generator \u001b[38;5;28;01melse\u001b[39;00m \u001b[38;5;28;43mlist\u001b[39;49m\u001b[43m(\u001b[49m\u001b[43moutput\u001b[49m\u001b[43m)\u001b[49m\n\u001b[32m   1920\u001b[39m \u001b[38;5;66;03m# Let's create an ID that uniquely identifies the current call. If the\u001b[39;00m\n\u001b[32m   1921\u001b[39m \u001b[38;5;66;03m# call is interrupted early and that the same instance is immediately\u001b[39;00m\n\u001b[32m   1922\u001b[39m \u001b[38;5;66;03m# re-used, this id will be used to prevent workers that were\u001b[39;00m\n\u001b[32m   1923\u001b[39m \u001b[38;5;66;03m# concurrently finalizing a task from the previous call to run the\u001b[39;00m\n\u001b[32m   1924\u001b[39m \u001b[38;5;66;03m# callback.\u001b[39;00m\n\u001b[32m   1925\u001b[39m \u001b[38;5;28;01mwith\u001b[39;00m \u001b[38;5;28mself\u001b[39m._lock:\n",
      "\u001b[36mFile \u001b[39m\u001b[32mc:\\Users\\Q548239\\devbr\\light-edit\\venv\\Lib\\site-packages\\joblib\\parallel.py:1847\u001b[39m, in \u001b[36mParallel._get_sequential_output\u001b[39m\u001b[34m(self, iterable)\u001b[39m\n\u001b[32m   1845\u001b[39m \u001b[38;5;28mself\u001b[39m.n_dispatched_batches += \u001b[32m1\u001b[39m\n\u001b[32m   1846\u001b[39m \u001b[38;5;28mself\u001b[39m.n_dispatched_tasks += \u001b[32m1\u001b[39m\n\u001b[32m-> \u001b[39m\u001b[32m1847\u001b[39m res = \u001b[43mfunc\u001b[49m\u001b[43m(\u001b[49m\u001b[43m*\u001b[49m\u001b[43margs\u001b[49m\u001b[43m,\u001b[49m\u001b[43m \u001b[49m\u001b[43m*\u001b[49m\u001b[43m*\u001b[49m\u001b[43mkwargs\u001b[49m\u001b[43m)\u001b[49m\n\u001b[32m   1848\u001b[39m \u001b[38;5;28mself\u001b[39m.n_completed_tasks += \u001b[32m1\u001b[39m\n\u001b[32m   1849\u001b[39m \u001b[38;5;28mself\u001b[39m.print_progress()\n",
      "\u001b[36mFile \u001b[39m\u001b[32mc:\\Users\\Q548239\\devbr\\light-edit\\venv\\Lib\\site-packages\\sklearn\\utils\\parallel.py:139\u001b[39m, in \u001b[36m_FuncWrapper.__call__\u001b[39m\u001b[34m(self, *args, **kwargs)\u001b[39m\n\u001b[32m    137\u001b[39m     config = {}\n\u001b[32m    138\u001b[39m \u001b[38;5;28;01mwith\u001b[39;00m config_context(**config):\n\u001b[32m--> \u001b[39m\u001b[32m139\u001b[39m     \u001b[38;5;28;01mreturn\u001b[39;00m \u001b[38;5;28;43mself\u001b[39;49m\u001b[43m.\u001b[49m\u001b[43mfunction\u001b[49m\u001b[43m(\u001b[49m\u001b[43m*\u001b[49m\u001b[43margs\u001b[49m\u001b[43m,\u001b[49m\u001b[43m \u001b[49m\u001b[43m*\u001b[49m\u001b[43m*\u001b[49m\u001b[43mkwargs\u001b[49m\u001b[43m)\u001b[49m\n",
      "\u001b[36mFile \u001b[39m\u001b[32mc:\\Users\\Q548239\\devbr\\light-edit\\venv\\Lib\\site-packages\\sklearn\\ensemble\\_forest.py:731\u001b[39m, in \u001b[36m_accumulate_prediction\u001b[39m\u001b[34m(predict, X, out, lock)\u001b[39m\n\u001b[32m    724\u001b[39m \u001b[38;5;28;01mdef\u001b[39;00m\u001b[38;5;250m \u001b[39m\u001b[34m_accumulate_prediction\u001b[39m(predict, X, out, lock):\n\u001b[32m    725\u001b[39m \u001b[38;5;250m    \u001b[39m\u001b[33;03m\"\"\"\u001b[39;00m\n\u001b[32m    726\u001b[39m \u001b[33;03m    This is a utility function for joblib's Parallel.\u001b[39;00m\n\u001b[32m    727\u001b[39m \n\u001b[32m    728\u001b[39m \u001b[33;03m    It can't go locally in ForestClassifier or ForestRegressor, because joblib\u001b[39;00m\n\u001b[32m    729\u001b[39m \u001b[33;03m    complains that it cannot pickle it when placed there.\u001b[39;00m\n\u001b[32m    730\u001b[39m \u001b[33;03m    \"\"\"\u001b[39;00m\n\u001b[32m--> \u001b[39m\u001b[32m731\u001b[39m     prediction = \u001b[43mpredict\u001b[49m\u001b[43m(\u001b[49m\u001b[43mX\u001b[49m\u001b[43m,\u001b[49m\u001b[43m \u001b[49m\u001b[43mcheck_input\u001b[49m\u001b[43m=\u001b[49m\u001b[38;5;28;43;01mFalse\u001b[39;49;00m\u001b[43m)\u001b[49m\n\u001b[32m    732\u001b[39m     \u001b[38;5;28;01mwith\u001b[39;00m lock:\n\u001b[32m    733\u001b[39m         \u001b[38;5;28;01mif\u001b[39;00m \u001b[38;5;28mlen\u001b[39m(out) == \u001b[32m1\u001b[39m:\n",
      "\u001b[36mFile \u001b[39m\u001b[32mc:\\Users\\Q548239\\devbr\\light-edit\\venv\\Lib\\site-packages\\sklearn\\tree\\_classes.py:531\u001b[39m, in \u001b[36mBaseDecisionTree.predict\u001b[39m\u001b[34m(self, X, check_input)\u001b[39m\n\u001b[32m    529\u001b[39m check_is_fitted(\u001b[38;5;28mself\u001b[39m)\n\u001b[32m    530\u001b[39m X = \u001b[38;5;28mself\u001b[39m._validate_X_predict(X, check_input)\n\u001b[32m--> \u001b[39m\u001b[32m531\u001b[39m proba = \u001b[38;5;28;43mself\u001b[39;49m\u001b[43m.\u001b[49m\u001b[43mtree_\u001b[49m\u001b[43m.\u001b[49m\u001b[43mpredict\u001b[49m\u001b[43m(\u001b[49m\u001b[43mX\u001b[49m\u001b[43m)\u001b[49m\n\u001b[32m    532\u001b[39m n_samples = X.shape[\u001b[32m0\u001b[39m]\n\u001b[32m    534\u001b[39m \u001b[38;5;66;03m# Classification\u001b[39;00m\n",
      "\u001b[31mKeyboardInterrupt\u001b[39m: "
     ]
    }
   ],
   "source": [
    "# Random Forest Regressor\n",
    "# Regressionsmodell wird berechnet und in Datei gespeichert, sofern nicht vorhanden\n",
    "if rf_model is None:\n",
    "    rf_model = RandomForestRegressor(n_estimators=50, random_state=42)\n",
    "    rf_model.fit(X_train, y_train)\n",
    "    dump(rf_model, rf_model_file)\n",
    "# Modell wird mithilfe des MeanSquaredErrors und des R²- Wertes ausgewertet (möglichst geringer MSE und möglichst hoher R²- Wert ist optimal)\n",
    "rf_predictions = rf_model.predict(X_test)\n",
    "evaluate_model(\n",
    "    y_test, rf_predictions, \"Random Forest\"\n",
    ")  # MSE: 38.68, R²: 0.97 -> Durchschnittlich ein Fehler von +-6 Tagen"
   ]
  },
  {
   "cell_type": "code",
   "execution_count": null,
   "metadata": {},
   "outputs": [],
   "source": [
    "# Hyperparameter-Optimierung von RFR mit RandomSearchCV\n",
    "# Für genaueres Modell:\n",
    "# Größeren Trainingsdatensatz benutzen\n",
    "# Hyperparameteroptimierung des RandomForest-Modells\n",
    "if grid_search is None:\n",
    "    param_grid = {\n",
    "    \"n_estimators\": [50, 100, 200, 300],\n",
    "    \"max_depth\": [None, 5, 10, 15, 20],\n",
    "    \"min_samples_split\": [2, 5, 10],\n",
    "    \"min_samples_leaf\": [1, 2, 4, 6],\n",
    "    \"max_features\": [\"auto\", \"sqrt\", \"log2\"],\n",
    "    }\n",
    "\n",
    "    # GridSearchCV\n",
    "    grid_search = GridSearchCV(\n",
    "        estimator=rf_model,\n",
    "        param_grid=param_grid,\n",
    "        cv=5,  # Anzahl der Folds in der Kreuzvalidierung\n",
    "        n_jobs=-2,  # Verwende alle verfügbaren Kerne\n",
    "        verbose=2,\n",
    "        scoring=\"neg_mean_squared_error\",\n",
    "    )\n",
    "\n",
    "    # Fit des Modells\n",
    "    grid_search.fit(X_train, y_train)\n",
    "\n",
    "    # Beste Parameter und Modell\n",
    "    best_rf_model = grid_search.best_estimator_\n",
    "    dump(best_rf_model, grid_search_file)\n",
    "best_rf_predictions = best_rf_model.predict(X_test)\n",
    "evaluate_model(y_test, best_rf_predictions, \"Best Random Forest\")"
   ]
  }
 ],
 "metadata": {
  "kernelspec": {
   "display_name": "venv",
   "language": "python",
   "name": "python3"
  },
  "language_info": {
   "codemirror_mode": {
    "name": "ipython",
    "version": 3
   },
   "file_extension": ".py",
   "mimetype": "text/x-python",
   "name": "python",
   "nbconvert_exporter": "python",
   "pygments_lexer": "ipython3",
   "version": "3.11.9"
  }
 },
 "nbformat": 4,
 "nbformat_minor": 2
}

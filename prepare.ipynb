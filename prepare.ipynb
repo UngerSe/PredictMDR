{
 "cells": [
  {
   "cell_type": "code",
   "execution_count": 1,
   "metadata": {},
   "outputs": [
    {
     "name": "stderr",
     "output_type": "stream",
     "text": [
      "C:\\Users\\Q548239\\AppData\\Local\\Temp\\ipykernel_9848\\2850263671.py:5: DtypeWarning: Columns (3,4,5) have mixed types. Specify dtype option on import or set low_memory=False.\n",
      "  df = pd.read_csv(file_name)\n"
     ]
    }
   ],
   "source": [
    "import pandas as pd\n",
    "\n",
    "file_name = \"dataset.csv\"\n",
    "\n",
    "df = pd.read_csv(file_name)\n",
    "\n",
    "# Auswahl der wichtigsten Features nach den höchsten absoluten Spearman Korrelationswerten\n",
    "important_features = [\n",
    "    \"InvSampTime\",\n",
    "    \"RadV_50per\",\n",
    "    \"OfsDevTight\",\n",
    "    \"InvSampTurn\",\n",
    "    \"AmpDevStrict\",\n",
    "    \"RadV_25per\",\n",
    "    \"RawRadius\",\n",
    "    \"AmpSyncCheck\",\n",
    "    \"msg_timestamp\",\n",
    "    \"OfsCos200\",\n",
    "    \"OfsCos100\",\n",
    "    \"ClCos300\",\n",
    "    \"OfsSin200\",\n",
    "    \"ClSin300\",\n",
    "    \"time_to_fail\",\n",
    "    \"status_75\",\n",
    "    \"c_van17\",\n",
    "    \"c_serial_number\",\n",
    "    \"mileage\",\n",
    "    \"ClSin150\",\n",
    "    \"ClCos150\",\n",
    "    \"OfsSin100\",\n",
    "    \"EcuLifeT\",\n",
    "]\n",
    "\n",
    "df = df[important_features]"
   ]
  },
  {
   "cell_type": "code",
   "execution_count": 2,
   "metadata": {},
   "outputs": [],
   "source": [
    "# Erstellen einer neuen Spalte 'Survival', die True ist, falls der 'status_75' Wert je Fahrzeug (c_serial_number) und je System (c_van17) nie \"VALID\" beträgt\n",
    "# Sonst ist der Wert False\n",
    "# Die Spalte gibt also an, ob die Komponente irgendwann im Datensatz ausfallen wird\n",
    "df[\"Survival\"] = df.groupby([\"c_van17\", \"c_serial_number\"])[\"status_75\"].transform(\n",
    "    lambda x: \"VALID\" in x.values\n",
    ")\n",
    "df[\"Survival\"] = ~df[\"Survival\"]\n",
    "\n",
    "# berechnen der Spalte 'sick_time'\n",
    "# ändern der Spalte msg_timestamp von absoluten zu relativen werten, damit Abhängigkeit größer wird, und Modell besser trainiert werden kann\n",
    "min_timestamps = df.groupby(['c_van17', 'c_serial_number'])['msg_timestamp'].transform('min')\n",
    "df['sick_time'] = df['msg_timestamp'] - min_timestamps\n",
    "\n",
    "\n",
    "# entfernen der irrelevanten Spalten\n",
    "df = df[df[\"Survival\"] != True]\n",
    "df = df.drop(columns=[\"c_van17\", \"c_serial_number\", \"status_75\", \"Survival\"])"
   ]
  },
  {
   "cell_type": "code",
   "execution_count": 3,
   "metadata": {},
   "outputs": [],
   "source": [
    "# Schreiben des Dataframes in eine neue csv Datei\n",
    "df.to_csv(\"prep_dataset.csv\", index=False)"
   ]
  }
 ],
 "metadata": {
  "kernelspec": {
   "display_name": "venv",
   "language": "python",
   "name": "python3"
  },
  "language_info": {
   "codemirror_mode": {
    "name": "ipython",
    "version": 3
   },
   "file_extension": ".py",
   "mimetype": "text/x-python",
   "name": "python",
   "nbconvert_exporter": "python",
   "pygments_lexer": "ipython3",
   "version": "3.11.9"
  }
 },
 "nbformat": 4,
 "nbformat_minor": 2
}
